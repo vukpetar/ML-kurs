{
 "cells": [
  {
   "cell_type": "markdown",
   "metadata": {},
   "source": [
    "# K-Nearest Neighbor"
   ]
  },
  {
   "cell_type": "markdown",
   "metadata": {},
   "source": [
    "## Učitavanje dataset-a"
   ]
  },
  {
   "cell_type": "markdown",
   "metadata": {},
   "source": [
    "Za vježbu KNN algoritma koristiće se IRIS dataset iz biblioteke sklearn. Sastoji se od tri vrste irisa (Setosa, Versicolour i Virginica). Sadrži 150 podataka, a jedan podatak sadrži niz u kojem se nalaze informacije o dužini čašičnog lista, širini čašičnog listića, dužini latice i širini latice (u cm). "
   ]
  },
  {
   "cell_type": "code",
   "execution_count": null,
   "metadata": {},
   "outputs": [],
   "source": [
    "import numpy as np\n",
    "from sklearn import datasets\n",
    "import matplotlib.pyplot as plt\n",
    "%matplotlib inline \n",
    "\n",
    "iris = datasets.load_iris()\n",
    "iris_data = iris.data\n",
    "iris_labels = iris.target"
   ]
  },
  {
   "cell_type": "markdown",
   "metadata": {},
   "source": [
    "Podijeliti dataset na trening i test podatke."
   ]
  },
  {
   "cell_type": "code",
   "execution_count": null,
   "metadata": {},
   "outputs": [],
   "source": []
  },
  {
   "cell_type": "markdown",
   "metadata": {},
   "source": [
    "Vizeulizovati trening podatke. Napomena: Potrebno je koristiti 3D prostor."
   ]
  },
  {
   "cell_type": "code",
   "execution_count": null,
   "metadata": {},
   "outputs": [],
   "source": []
  },
  {
   "cell_type": "markdown",
   "metadata": {},
   "source": [
    "## Određivanje komšija"
   ]
  },
  {
   "cell_type": "markdown",
   "metadata": {},
   "source": [
    "Napisati funkciju za računanje distance između dvije tačke."
   ]
  },
  {
   "cell_type": "code",
   "execution_count": null,
   "metadata": {},
   "outputs": [],
   "source": [
    "def distance(x1, x2):\n",
    "    '''\n",
    "    Računanje distance.\n",
    "\n",
    "    Parametri\n",
    "    ----------\n",
    "    x1 : ndarray, shape(4, )\n",
    "        Prva tačka.\n",
    "    x2 : ndarray, shape(4, )\n",
    "        Druga tačka.\n",
    "\n",
    "    Rezultat\n",
    "    -------\n",
    "    dist : numpy.float64\n",
    "        Distanca između 2 tačke.\n",
    "    '''\n",
    "    \n",
    "    return dist"
   ]
  },
  {
   "cell_type": "markdown",
   "metadata": {},
   "source": [
    "Napisati funkciju koja vraća listu k najbližih komšija."
   ]
  },
  {
   "cell_type": "code",
   "execution_count": null,
   "metadata": {},
   "outputs": [],
   "source": [
    "def get_neighbors(training_set, labels, instance, k, distance=distance):\n",
    "    '''\n",
    "    Računanje k najbližih komšija.\n",
    "\n",
    "    Parametri\n",
    "    ----------\n",
    "    training_set : ndarray\n",
    "        Trening podaci.\n",
    "    labels : ndarray\n",
    "        Labele trening podataka.\n",
    "    instance : ndarray, shape(4, )\n",
    "        Podatak u odnosu na koje se traže najbliže komšije.\n",
    "    k : int\n",
    "        Broj komšija.\n",
    "    distance : float64\n",
    "        Referenca na funkciju korištena za računanje distanci.\n",
    "    \n",
    "    Rezultat\n",
    "    -------\n",
    "    neighbors : list\n",
    "        Lista k najbližih komšija.\n",
    "    '''\n",
    "    \n",
    "    return neighbors"
   ]
  },
  {
   "cell_type": "markdown",
   "metadata": {},
   "source": [
    "Testirati funkciju na iris uzorku."
   ]
  },
  {
   "cell_type": "code",
   "execution_count": null,
   "metadata": {},
   "outputs": [],
   "source": [
    "for i in range(5):\n",
    "    neighbors = get_neighbors(learnset_data, learnset_labels, testset_data[i], 3, distance=distance)\n",
    "    print(i, testset_data[i], testset_labels[i], neighbors)"
   ]
  },
  {
   "cell_type": "markdown",
   "metadata": {},
   "source": [
    "## Glasanje"
   ]
  },
  {
   "cell_type": "markdown",
   "metadata": {},
   "source": [
    "Napisati funkciju koja broji glasove komšija i vraća najčešću klasu."
   ]
  },
  {
   "cell_type": "code",
   "execution_count": null,
   "metadata": {},
   "outputs": [],
   "source": [
    "def vote(neighbors):\n",
    "    '''\n",
    "    Glasanje za najvjerovatniju klasu.\n",
    "\n",
    "    Parametri\n",
    "    ----------\n",
    "    neighbors : list\n",
    "        Lista k najbližih komšija.\n",
    "    \n",
    "    Rezultat\n",
    "    -------\n",
    "    class_vote : int\n",
    "        Klasa sa najviše glasova.\n",
    "    '''\n",
    "    \n",
    "    return class_vote"
   ]
  },
  {
   "cell_type": "markdown",
   "metadata": {},
   "source": [
    "Testirati funkciju na podacima iz trening skupa."
   ]
  },
  {
   "cell_type": "code",
   "execution_count": null,
   "metadata": {},
   "outputs": [],
   "source": []
  },
  {
   "cell_type": "markdown",
   "metadata": {},
   "source": [
    "Napisati funkciju vote_prob koja vraća ime klase i vjerovatnoću te klase."
   ]
  },
  {
   "cell_type": "code",
   "execution_count": null,
   "metadata": {},
   "outputs": [],
   "source": [
    "def vote_prob(neighbors):\n",
    "    '''\n",
    "    Glasanje za najvjerovatniju klasu i njena vjerovatnoća.\n",
    "\n",
    "    Parametri\n",
    "    ----------\n",
    "    neighbors : list\n",
    "        Lista k najbližih komšija.\n",
    "    \n",
    "    Rezultat\n",
    "    -------\n",
    "    class_vote : int\n",
    "        Predviđena klasa.\n",
    "    class_prob : float64\n",
    "        Vjerovatnoća izbora te klase.\n",
    "    '''\n",
    "    \n",
    "    return class_pred, class_prob"
   ]
  },
  {
   "cell_type": "markdown",
   "metadata": {},
   "source": [
    "Testirati funkciju."
   ]
  },
  {
   "cell_type": "code",
   "execution_count": null,
   "metadata": {},
   "outputs": [],
   "source": []
  }
 ],
 "metadata": {
  "kernelspec": {
   "display_name": "Python 3",
   "language": "python",
   "name": "python3"
  },
  "language_info": {
   "codemirror_mode": {
    "name": "ipython",
    "version": 3
   },
   "file_extension": ".py",
   "mimetype": "text/x-python",
   "name": "python",
   "nbconvert_exporter": "python",
   "pygments_lexer": "ipython3",
   "version": "3.7.1"
  }
 },
 "nbformat": 4,
 "nbformat_minor": 2
}
