{
 "cells": [
  {
   "cell_type": "markdown",
   "metadata": {},
   "source": [
    "# Linearna regresija sa više varijabli"
   ]
  },
  {
   "cell_type": "markdown",
   "metadata": {},
   "source": [
    "## Normalizacija karakteristika"
   ]
  },
  {
   "cell_type": "markdown",
   "metadata": {},
   "source": [
    "Učitati fajl zad2.txt koji sadrži podatke o veličini kuća, broju spavaćih soba i njihovoj cijeni."
   ]
  },
  {
   "cell_type": "code",
   "execution_count": null,
   "metadata": {},
   "outputs": [],
   "source": []
  },
  {
   "cell_type": "markdown",
   "metadata": {},
   "source": [
    "Prikazati vrijednosti veličina kuća i broja spavaćih soba."
   ]
  },
  {
   "cell_type": "code",
   "execution_count": null,
   "metadata": {},
   "outputs": [],
   "source": []
  },
  {
   "cell_type": "markdown",
   "metadata": {},
   "source": [
    "Može se primijetiti da je površina kuća par desetina puta veća od broja soba. Iz tog razloga je neophodno primijeniti normalizaciju karakteristika. Napisati funkciju za normalizaciju podataka."
   ]
  },
  {
   "cell_type": "code",
   "execution_count": null,
   "metadata": {},
   "outputs": [],
   "source": [
    "def feature_normalize(X):\n",
    "    \"\"\"\n",
    "    Normalizuje karakteristike.\n",
    "\n",
    "    Parametri\n",
    "    ----------\n",
    "    X : ndarray, shape (n_samples, n_features)\n",
    "        Karakteristike koje treba normalizovati.\n",
    "\n",
    "    Rezultat\n",
    "    -------\n",
    "    X_norm : ndarray, shape (n_samples, n_features)\n",
    "        Normalizovana verizija X gdje je srednja vrijednost svake karakteristike 0 i standardna devijacija je 1.\n",
    "    mu : ndarray, shape (n_features,)\n",
    "        Srednja vrijednost.\n",
    "    sigma : ndarray, shape (n_features,)\n",
    "        Standardna devijacija.\n",
    "    \"\"\"\n",
    "    \n",
    "    return X_norm, mu, sigma\n"
   ]
  },
  {
   "cell_type": "markdown",
   "metadata": {},
   "source": [
    "Primijeniti funkciju normalizacije."
   ]
  },
  {
   "cell_type": "code",
   "execution_count": null,
   "metadata": {},
   "outputs": [],
   "source": []
  },
  {
   "cell_type": "markdown",
   "metadata": {},
   "source": [
    "## Algoritam opadajućeg gradijenta"
   ]
  },
  {
   "cell_type": "markdown",
   "metadata": {},
   "source": [
    "Inicijalizovati parametar učenja, broj iteracija, težine i bias. "
   ]
  },
  {
   "cell_type": "code",
   "execution_count": null,
   "metadata": {},
   "outputs": [],
   "source": []
  },
  {
   "cell_type": "markdown",
   "metadata": {},
   "source": [
    "Napisati funkciju za računanje funkcije cilja linearne regresije sa više varijabli."
   ]
  },
  {
   "cell_type": "code",
   "execution_count": null,
   "metadata": {},
   "outputs": [],
   "source": [
    "def compute_cost_multi(X, y, W, b):\n",
    "    \"\"\"\n",
    "    Računanje funkcije cilja linearne regresije sa više varijabli.\n",
    "\n",
    "    Parametri\n",
    "    ----------\n",
    "    X : ndarray, shape (n_samples, n_features)\n",
    "        Trening podaci, gdje n_samples je broj uzoraka i n_features je broj karakteristika.\n",
    "    y : ndarray, shape (n_samples,)\n",
    "        Labele.\n",
    "    W : ndarray, shape (n_features,)\n",
    "        Težine linearne regresije.\n",
    "    b : float64\n",
    "        Bias linearne regresije.\n",
    "\n",
    "    Returns\n",
    "    -------\n",
    "    J : numpy.float64\n",
    "        Vrijednost funkcije cilja za zadate težine linearne regresije za podatke X i y.\n",
    "    \"\"\"\n",
    "    \n",
    "    return J"
   ]
  },
  {
   "cell_type": "markdown",
   "metadata": {},
   "source": [
    "Napisati funkciju algoritma opadajućeg gradijenta linearne regresije sa više varijabli."
   ]
  },
  {
   "cell_type": "code",
   "execution_count": null,
   "metadata": {},
   "outputs": [],
   "source": [
    "def gradient_descent_multi(X, y, W, b, alpha, num_iters):\n",
    "    \"\"\"\n",
    "    Primjenjuje algoritam opadajućeg gradijenta da bi se ažurirale vrijednosti parametara W i b.\n",
    "\n",
    "    Parametri\n",
    "    ----------\n",
    "    X : ndarray, shape (n_samples, n_features)\n",
    "        Trening podaci, gdje n_samples predstavlja broj uzoraka i n_features je broj karakteristika.\n",
    "    y : ndarray, shape (n_samples,)\n",
    "        Labele.\n",
    "    W : ndarray, shape (n_features,)\n",
    "        Početne vrijednosti težina.\n",
    "    b : ndarray, shape (1,)\n",
    "        Početna vrijednost biasa.\n",
    "    alpha : float64\n",
    "        Parametar učenja.\n",
    "    num_iters: int32\n",
    "        Broj iteracija.\n",
    "\n",
    "    Returns\n",
    "    -------\n",
    "    W : ndarray, shape (n_features,)\n",
    "        Parametar linearne regresije.\n",
    "    b : ndarray, shape (1,)\n",
    "        Parametar linearne regresije.\n",
    "    J_history: ndarray, shape (num_iters,)\n",
    "        Vrijednosti funkcije cilja tokom iteracija.\n",
    "    \"\"\"\n",
    "    \n",
    "\n",
    "    return W, b, J_history"
   ]
  },
  {
   "cell_type": "markdown",
   "metadata": {},
   "source": [
    "Pozvati funkciju opadajućeg gradijenta."
   ]
  },
  {
   "cell_type": "code",
   "execution_count": null,
   "metadata": {},
   "outputs": [],
   "source": []
  },
  {
   "cell_type": "markdown",
   "metadata": {},
   "source": [
    "Nacrtati grafik funkcije cilja u zavisnosti od broja iteracija."
   ]
  },
  {
   "cell_type": "code",
   "execution_count": null,
   "metadata": {},
   "outputs": [],
   "source": []
  },
  {
   "cell_type": "markdown",
   "metadata": {},
   "source": [
    "Prikazati vrijednosti parametara W i b."
   ]
  },
  {
   "cell_type": "code",
   "execution_count": null,
   "metadata": {},
   "outputs": [],
   "source": []
  },
  {
   "cell_type": "markdown",
   "metadata": {},
   "source": [
    "Procijeniti cijenu kuće površine 150 kvadrata sa 3 spavaće sobe."
   ]
  },
  {
   "cell_type": "code",
   "execution_count": null,
   "metadata": {},
   "outputs": [],
   "source": []
  }
 ],
 "metadata": {
  "kernelspec": {
   "display_name": "Python 3",
   "language": "python",
   "name": "python3"
  },
  "language_info": {
   "codemirror_mode": {
    "name": "ipython",
    "version": 3
   },
   "file_extension": ".py",
   "mimetype": "text/x-python",
   "name": "python",
   "nbconvert_exporter": "python",
   "pygments_lexer": "ipython3",
   "version": "3.7.1"
  }
 },
 "nbformat": 4,
 "nbformat_minor": 2
}
