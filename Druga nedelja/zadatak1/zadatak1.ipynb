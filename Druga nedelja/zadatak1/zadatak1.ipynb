{
 "cells": [
  {
   "cell_type": "markdown",
   "metadata": {},
   "source": [
    "# Linearna regresija"
   ]
  },
  {
   "cell_type": "markdown",
   "metadata": {},
   "source": [
    "## Učitavanje podataka"
   ]
  },
  {
   "cell_type": "markdown",
   "metadata": {},
   "source": [
    "Iz fajla zad1.txt učitati podatke koji sadrže informacije o broju stanovnika u određenim gradovima i profitu prodavnice u tim gradovima."
   ]
  },
  {
   "cell_type": "code",
   "execution_count": null,
   "metadata": {},
   "outputs": [],
   "source": []
  },
  {
   "cell_type": "markdown",
   "metadata": {},
   "source": [
    "Na grafiku predstaviti učitane podatke."
   ]
  },
  {
   "cell_type": "code",
   "execution_count": null,
   "metadata": {},
   "outputs": [],
   "source": []
  },
  {
   "cell_type": "markdown",
   "metadata": {},
   "source": [
    "## Algoritam opadajućeg gradijenta"
   ]
  },
  {
   "cell_type": "markdown",
   "metadata": {},
   "source": [
    "Inicijalizovati težinu i bias nulama."
   ]
  },
  {
   "cell_type": "code",
   "execution_count": null,
   "metadata": {},
   "outputs": [],
   "source": []
  },
  {
   "cell_type": "markdown",
   "metadata": {},
   "source": [
    "Definisati broj iteracija i parametar učenja."
   ]
  },
  {
   "cell_type": "code",
   "execution_count": null,
   "metadata": {},
   "outputs": [],
   "source": []
  },
  {
   "cell_type": "markdown",
   "metadata": {},
   "source": [
    "Napisati funkciju za računanje funkcije cilja linearne regresije."
   ]
  },
  {
   "cell_type": "code",
   "execution_count": null,
   "metadata": {},
   "outputs": [],
   "source": [
    "def compute_cost(x, y, w, b):\n",
    "    \"\"\"\n",
    "    Računanje funkcije cilja linearne regresije\n",
    "\n",
    "    Parametri\n",
    "    ----------\n",
    "    X : ndarray, shape (n_samples, n_features)\n",
    "        Trening podaci, gdje n_samples je broj uzoraka i n_features je broj karakteristika.\n",
    "    y : ndarray, shape (n_samples,)\n",
    "        Labele.\n",
    "    w : ndarray, shape (n_features,)\n",
    "        Težine linearne regresije.\n",
    "    b : float64\n",
    "        Bias linearne regresije.\n",
    "\n",
    "    Rezultat\n",
    "    -------\n",
    "    J : numpy.float64\n",
    "        Vrijednost funkcije cilja za zadate težine linearne regresije za podatke X i y.\n",
    "    \"\"\"\n",
    "    \n",
    "\n",
    "    return J"
   ]
  },
  {
   "cell_type": "markdown",
   "metadata": {},
   "source": [
    "Izračunati funkciju cilja."
   ]
  },
  {
   "cell_type": "code",
   "execution_count": null,
   "metadata": {},
   "outputs": [],
   "source": []
  },
  {
   "cell_type": "markdown",
   "metadata": {},
   "source": [
    "Napisati funkciju za algoritam opadajućeg gradijenta da bi se naučile vrijednosti parametara."
   ]
  },
  {
   "cell_type": "code",
   "execution_count": null,
   "metadata": {},
   "outputs": [],
   "source": [
    "def gradient_descent(X, y, w, b, alpha, num_iters):\n",
    "    \"\"\"\n",
    "    Algoritam opadajućeg gradijenta.\n",
    "\n",
    "    Parametri\n",
    "    ----------\n",
    "    X : ndarray, shape (n_samples, n_features)\n",
    "        Trening podaci, gdje n_samples je broj uzoraka i n_features je broj karakteristika.\n",
    "    y : ndarray, shape (n_samples,)\n",
    "        Labele.\n",
    "    w : ndarray, shape (n_features,)\n",
    "        Težine linearne regresije.\n",
    "    b : float64\n",
    "        Bias linearne regresije.\n",
    "    alpha : float64\n",
    "        Parametar učenja.\n",
    "    num_iters: int\n",
    "        Broj iteracija.\n",
    "\n",
    "    Rezultat\n",
    "    -------\n",
    "    w : ndarray, shape (n_features,)\n",
    "        Težine linearne regresije.\n",
    "    b : ndarray, shape (n_features,)\n",
    "        Bias linearne regresije.\n",
    "    J_history: ndarray, shape (num_iters,)\n",
    "        Vrijednosti funkcije cilja tokom iteracija.\n",
    "    \"\"\"\n",
    "    \n",
    "\n",
    "    return w, b, J_history"
   ]
  },
  {
   "cell_type": "markdown",
   "metadata": {},
   "source": [
    "Pozvati funkciju gradient_descent i štampati vrijednosti težina."
   ]
  },
  {
   "cell_type": "code",
   "execution_count": null,
   "metadata": {},
   "outputs": [],
   "source": []
  },
  {
   "cell_type": "markdown",
   "metadata": {},
   "source": [
    "Nacrtati rezultat linearne regresije."
   ]
  },
  {
   "cell_type": "code",
   "execution_count": null,
   "metadata": {},
   "outputs": [],
   "source": []
  },
  {
   "cell_type": "markdown",
   "metadata": {},
   "source": [
    "Nacrtati grafik funkcije cilja u odnosu na iteracije."
   ]
  },
  {
   "cell_type": "code",
   "execution_count": null,
   "metadata": {},
   "outputs": [],
   "source": []
  },
  {
   "cell_type": "markdown",
   "metadata": {},
   "source": [
    "Predvidjeti profit za gradove sa 35 000 i 70 000 stanovnika."
   ]
  },
  {
   "cell_type": "code",
   "execution_count": null,
   "metadata": {},
   "outputs": [],
   "source": []
  },
  {
   "cell_type": "markdown",
   "metadata": {},
   "source": [
    "## Prikazivanje funkcije cilja"
   ]
  },
  {
   "cell_type": "markdown",
   "metadata": {},
   "source": [
    "U ovom dijelu treba prikazati funkciju cilja u odnosu na parametre."
   ]
  },
  {
   "cell_type": "code",
   "execution_count": null,
   "metadata": {},
   "outputs": [],
   "source": [
    "b_vals = np.linspace(-10, 10, 100)\n",
    "w_vals = np.linspace(-1, 4, 100)\n",
    "\n",
    "J_vals = np.zeros((len(b_vals), len(w_vals)))\n",
    "\n",
    "for i in range(len(b_vals)):\n",
    "    for j in range(len(w_vals)):\n",
    "        t = np.array([b_vals[i], w_vals[j]])\n",
    "        J_vals[i, j] = compute_cost(X, y, t[1], t[0])\n",
    "\n",
    "J_vals = J_vals.T\n",
    "b_vals, w_vals = np.meshgrid(b_vals, w_vals)"
   ]
  },
  {
   "cell_type": "code",
   "execution_count": null,
   "metadata": {},
   "outputs": [],
   "source": [
    "from mpl_toolkits.mplot3d import Axes3D\n",
    "from matplotlib import cm\n",
    "\n",
    "fig = plt.figure()\n",
    "fig.set_size_inches(10, 10)\n",
    "ax = fig.gca(projection='3d')\n",
    "ax.plot_surface(b_vals, w_vals, J_vals, rstride=2, cstride=2, cmap=cm.jet, linewidth=0, antialiased=False)\n",
    "ax.set_xlabel(r'$b$')\n",
    "ax.set_ylabel(r'$w$')\n",
    "plt.show()"
   ]
  },
  {
   "cell_type": "code",
   "execution_count": null,
   "metadata": {},
   "outputs": [],
   "source": [
    "plt.figure()\n",
    "plt.contour(b_vals, w_vals, J_vals, levels = np.logspace(-2, 3, 20))\n",
    "plt.plot(b, w, linestyle = '', marker = 'x', color = 'r')\n",
    "plt.xlabel(r'$b$')\n",
    "plt.ylabel(r'$w$')\n",
    "plt.show()"
   ]
  }
 ],
 "metadata": {
  "kernelspec": {
   "display_name": "Python 3",
   "language": "python",
   "name": "python3"
  },
  "language_info": {
   "codemirror_mode": {
    "name": "ipython",
    "version": 3
   },
   "file_extension": ".py",
   "mimetype": "text/x-python",
   "name": "python",
   "nbconvert_exporter": "python",
   "pygments_lexer": "ipython3",
   "version": "3.7.1"
  }
 },
 "nbformat": 4,
 "nbformat_minor": 2
}
