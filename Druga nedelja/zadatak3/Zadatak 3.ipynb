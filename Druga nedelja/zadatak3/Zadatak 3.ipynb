{
 "cells": [
  {
   "cell_type": "markdown",
   "metadata": {},
   "source": [
    "# Logistička regresija"
   ]
  },
  {
   "cell_type": "markdown",
   "metadata": {},
   "source": [
    "## Učitavanje podataka"
   ]
  },
  {
   "cell_type": "markdown",
   "metadata": {},
   "source": [
    "Učitati fajl zad3.txt čije prve dvije kolone predstavljaju uspješnost na 2 testa, a treća kolona predstavlja labele, odnosno podatak da li je student položio ili nije položio predmet."
   ]
  },
  {
   "cell_type": "code",
   "execution_count": null,
   "metadata": {},
   "outputs": [],
   "source": []
  },
  {
   "cell_type": "markdown",
   "metadata": {},
   "source": [
    "## Prikazivanje podataka"
   ]
  },
  {
   "cell_type": "markdown",
   "metadata": {},
   "source": [
    "Napisati funkciju koja grafički prikazuje učitane podatke. Napomena: Neophodno je da se podaci razlikuju po klasama."
   ]
  },
  {
   "cell_type": "code",
   "execution_count": null,
   "metadata": {},
   "outputs": [],
   "source": [
    "import matplotlib.pyplot as plt\n",
    "%matplotlib inline\n",
    "\n",
    "def plot_data(X, y):\n",
    "    \"\"\"\n",
    "    Crtanje podataka X i y.\n",
    "\n",
    "    Parametri\n",
    "    ----------\n",
    "    X : array-like, shape (n_samples, 2)\n",
    "        Podaci na x osi.\n",
    "    y : array-like, shape (n_samples,)\n",
    "        Podaci na y osi.\n",
    "    \"\"\"\n",
    "    "
   ]
  },
  {
   "cell_type": "markdown",
   "metadata": {},
   "source": [
    "Iscrtati podatke pozivajući funkciju plot_data."
   ]
  },
  {
   "cell_type": "code",
   "execution_count": null,
   "metadata": {},
   "outputs": [],
   "source": []
  },
  {
   "cell_type": "markdown",
   "metadata": {},
   "source": [
    "## Funkcija cilja i algoritam opadajućeg gradijenta"
   ]
  },
  {
   "cell_type": "markdown",
   "metadata": {},
   "source": [
    "Inicijalizovati trening parametre."
   ]
  },
  {
   "cell_type": "code",
   "execution_count": null,
   "metadata": {},
   "outputs": [],
   "source": []
  },
  {
   "cell_type": "markdown",
   "metadata": {},
   "source": [
    "Napisati sigmoid funkciju."
   ]
  },
  {
   "cell_type": "code",
   "execution_count": null,
   "metadata": {},
   "outputs": [],
   "source": [
    "def sigmoid(z):\n",
    "    \"\"\"\n",
    "    Računanje sigmoid funkcije.\n",
    "\n",
    "    Parametri\n",
    "    ----------\n",
    "    z : array-like\n",
    "        Varijabla za sigmoid funkciju.\n",
    "\n",
    "    Rezultat\n",
    "    -------\n",
    "    ndarray\n",
    "        Vrijednost sigmoid funkcije za z.\n",
    "    \"\"\"\n",
    "    \n",
    "    return g"
   ]
  },
  {
   "cell_type": "markdown",
   "metadata": {},
   "source": [
    "Napisati funkciju za računanje funkcije cilja."
   ]
  },
  {
   "cell_type": "code",
   "execution_count": null,
   "metadata": {},
   "outputs": [],
   "source": [
    "def cost_function(W, b, X, y):\n",
    "    \"\"\"\n",
    "    Računanje funkcije cilja logističke regresije.\n",
    "\n",
    "    Parametri\n",
    "    ----------\n",
    "    W : ndarray, shape (n_features,)\n",
    "        Parametri linearne regresije.\n",
    "    b : float64\n",
    "        Bias.\n",
    "    X : ndarray, shape (n_samples, n_features)\n",
    "        Trening podaci, gdje n_samples je broj uzoraka i n_features je broj karakteristika.\n",
    "    y : ndarray, shape (n_samples,)\n",
    "        Labele.\n",
    "\n",
    "    Rezultat\n",
    "    -------\n",
    "    J : numpy.float64\n",
    "        Rezultat funkcije cilja za zadate parametre W i b.\n",
    "    \"\"\"\n",
    "    \n",
    "\n",
    "    return J"
   ]
  },
  {
   "cell_type": "markdown",
   "metadata": {},
   "source": [
    "Računanje funkcije cilja za početne vrijednosti parametara."
   ]
  },
  {
   "cell_type": "code",
   "execution_count": null,
   "metadata": {},
   "outputs": [],
   "source": []
  },
  {
   "cell_type": "markdown",
   "metadata": {},
   "source": [
    "Napisati funkciju algoritma opadajućeg gradijenta logističke regresije."
   ]
  },
  {
   "cell_type": "code",
   "execution_count": null,
   "metadata": {},
   "outputs": [],
   "source": [
    "def grad_desc(W, b, X, y, alpha, num_iters):\n",
    "    \"\"\"\n",
    "    Algoritam opadajućeg gradijenta.\n",
    "\n",
    "    Parametri\n",
    "    ----------\n",
    "    W : ndarray, shape (n_features,)\n",
    "        Parametri linearne regresije.\n",
    "    b : float\n",
    "        Bias.\n",
    "    X : ndarray, shape (n_samples, n_features)\n",
    "        Trening podaci, gdje n_samples je broj uzoraka i n_features je broj karakteristika.\n",
    "    y : ndarray, shape (n_samples,)\n",
    "        Labele.\n",
    "\n",
    "    Rezultat\n",
    "    -------\n",
    "    W : ndarray, shape (n_features,)\n",
    "        Parametri linearne regresije.\n",
    "    b : float64\n",
    "        Bias.\n",
    "    J_history : numpy.float64\n",
    "        Rezultat funkcije cilja tokom iteracija.\n",
    "    \"\"\"\n",
    "    \n",
    "\n",
    "    return W, b, J_history"
   ]
  },
  {
   "cell_type": "markdown",
   "metadata": {},
   "source": [
    "Pozvati funkciju opadajućeg gradijenta."
   ]
  },
  {
   "cell_type": "code",
   "execution_count": null,
   "metadata": {},
   "outputs": [],
   "source": []
  },
  {
   "cell_type": "markdown",
   "metadata": {},
   "source": [
    "Štampati konačnu vrijednost funkcije cilja."
   ]
  },
  {
   "cell_type": "code",
   "execution_count": null,
   "metadata": {},
   "outputs": [],
   "source": []
  },
  {
   "cell_type": "markdown",
   "metadata": {},
   "source": [
    "Grafički prikazati granicu odlučivanja."
   ]
  },
  {
   "cell_type": "code",
   "execution_count": null,
   "metadata": {},
   "outputs": [],
   "source": [
    "def map_feature(X1, X2):\n",
    "    \"\"\"\n",
    "    Funkcija mapiranje na polinomijalne karakteristike. Ulazi X1 i X2 moraju biti iste veličine.\n",
    "    \n",
    "    Parametri\n",
    "    ----------\n",
    "    X1 : ndarray, shape (n_samples,)\n",
    "        Ulazna karakteristika.\n",
    "    X2 : ndarray, shape (n_samples,)\n",
    "        Ulazna karakteristika.\n",
    "    \n",
    "    Rezultat\n",
    "    -------\n",
    "    Out : ndarray, shape (n_samples, 28)\n",
    "        Nova karakteristika koja se sastoji od X1, X2, X1.^2, X2.^2, X1*X2, X1*X2.^2, itd...\n",
    "    \"\"\"\n",
    "    degree = 6\n",
    "    Out = np.ones(len(X1))\n",
    "\n",
    "    for i in range(1, degree + 1):\n",
    "        for j in range(0, i + 1):\n",
    "            tmp = np.power(X1, i - j) * np.power(X2, j)\n",
    "            Out = np.vstack((Out, tmp))\n",
    "    return Out.T"
   ]
  },
  {
   "cell_type": "code",
   "execution_count": null,
   "metadata": {},
   "outputs": [],
   "source": [
    "import numpy as np\n",
    "import matplotlib.pyplot as plt\n",
    "\n",
    "def plot_decision_boundary(theta, X, y):\n",
    "    \"\"\"\n",
    "    Prikazivanje podataka i granice odlučivanja.\n",
    "    \n",
    "    Parametri\n",
    "    ----------\n",
    "    theta : ndarray, shape (n_features,)\n",
    "        Parametri regresije.\n",
    "    X : ndarray, shape (n_samples, n_features)\n",
    "        Trening podaci, gdje je n_samples je broj uzoraka i n_features je broj karakteristika.\n",
    "    y : ndarray, shape (n_samples,)\n",
    "        Labele.\n",
    "    \"\"\"\n",
    "    if X.shape[1] <= 3:\n",
    "        plot_X = np.array([np.amin(X[:, 1]) - 2, np.amax(X[:, 1]) + 2])\n",
    "        plot_y = -1.0 / theta[2] * (theta[1] * plot_X + theta[0])\n",
    "        plt.plot(plot_X, plot_y)\n",
    "    else:\n",
    "        u = np.linspace(-1, 1.5, 50)\n",
    "        v = np.linspace(-1, 1.5, 50)\n",
    "        z = np.zeros((len(u), len(v)))\n",
    "        for i in range(len(u)):\n",
    "            for j in range(len(v)):\n",
    "                z[i, j] = map_feature(u[i:i+1], v[j:j+1]).dot(theta)\n",
    "        z = z.T\n",
    "        u, v = np.meshgrid(u, v)\n",
    "        cs = plt.contour(u, v, z, levels=[0])\n",
    "        fmt = {}\n",
    "        strs = ['Granica odlučivanja']\n",
    "        for l, s in zip(cs.levels, strs):\n",
    "            fmt[l] = s\n",
    "\n",
    "        plt.clabel(cs, cs.levels[::2], inline = True, fmt = fmt, fontsize = 10)\n"
   ]
  },
  {
   "cell_type": "code",
   "execution_count": null,
   "metadata": {},
   "outputs": [],
   "source": [
    "m, n = X.shape\n",
    "xxx = np.hstack((np.ones((m, 1)), X))\n",
    "theta = b\n",
    "theta = np.append(theta, W)\n",
    "plt.figure()\n",
    "plot_data(xxx[:, 1:], y)\n",
    "plt.xlabel('Rezultati prvog ispita')\n",
    "plt.ylabel('Rezultati drugog ispita')\n",
    "plt.xlim([30, 100])\n",
    "plt.ylim([30, 100])\n",
    "plt.legend(['Položio', 'Nije položio'], loc = 'upper right', numpoints = 1)\n",
    "\n",
    "plot_decision_boundary(theta, xxx, y)\n",
    "plt.show()"
   ]
  },
  {
   "cell_type": "markdown",
   "metadata": {},
   "source": [
    "## Procjena i tačnost"
   ]
  },
  {
   "cell_type": "markdown",
   "metadata": {},
   "source": [
    "Izračunati vjerovatnoću da položi ispit ako je na prvom ispitu imao 45 bodova, a na drugom 85 bodova."
   ]
  },
  {
   "cell_type": "code",
   "execution_count": null,
   "metadata": {},
   "outputs": [],
   "source": []
  },
  {
   "cell_type": "markdown",
   "metadata": {},
   "source": [
    "Napisati funkciju za predviđanje labela koristeći naučene parametre."
   ]
  },
  {
   "cell_type": "code",
   "execution_count": null,
   "metadata": {},
   "outputs": [],
   "source": [
    "def predict(W, b, X):\n",
    "    \"\"\"\n",
    "    Predvidjanje labele koristeći parametre W i b logističke regresije.\n",
    "    \n",
    "    Parametri\n",
    "    ----------\n",
    "    W : ndarray, shape (n_features,)\n",
    "        Parametri linearne regresije.\n",
    "    b : float64\n",
    "        Bias.\n",
    "    X : ndarray, shape (n_samples, n_features)\n",
    "        Trening podaci, gdje n_samples je broj uzoraka i n_features je broj karakteristika.\n",
    "    \n",
    "    Rezultat\n",
    "    -------\n",
    "    ndarray, shape (n_samples,)\n",
    "        Predviđanje za X koristeći prag odlučivanja 0.5.\n",
    "    \"\"\"\n",
    "    \n",
    "    return p.astype(int)"
   ]
  },
  {
   "cell_type": "markdown",
   "metadata": {},
   "source": [
    "Izračunati tačnost koristeću funkciju predict."
   ]
  },
  {
   "cell_type": "code",
   "execution_count": null,
   "metadata": {},
   "outputs": [],
   "source": []
  }
 ],
 "metadata": {
  "kernelspec": {
   "display_name": "Python 3",
   "language": "python",
   "name": "python3"
  },
  "language_info": {
   "codemirror_mode": {
    "name": "ipython",
    "version": 3
   },
   "file_extension": ".py",
   "mimetype": "text/x-python",
   "name": "python",
   "nbconvert_exporter": "python",
   "pygments_lexer": "ipython3",
   "version": "3.7.1"
  }
 },
 "nbformat": 4,
 "nbformat_minor": 2
}
